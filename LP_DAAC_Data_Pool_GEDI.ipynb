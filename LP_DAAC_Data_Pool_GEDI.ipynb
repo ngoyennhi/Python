{
 "cells": [
  {
   "cell_type": "code",
   "execution_count": 2,
   "metadata": {},
   "outputs": [
    {
     "ename": "ModuleNotFoundError",
     "evalue": "No module named 'geoviews'",
     "output_type": "error",
     "traceback": [
      "\u001b[0;31m---------------------------------------------------------------------------\u001b[0m",
      "\u001b[0;31mModuleNotFoundError\u001b[0m                       Traceback (most recent call last)",
      "\u001b[1;32m/Users/dinhhotongminh/Documents/PythonIni062022/LP_DAAC_Data_Pool_GEDI.ipynb Cell 1'\u001b[0m in \u001b[0;36m<cell line: 7>\u001b[0;34m()\u001b[0m\n\u001b[1;32m      <a href='vscode-notebook-cell:/Users/dinhhotongminh/Documents/PythonIni062022/LP_DAAC_Data_Pool_GEDI.ipynb#ch0000000?line=4'>5</a>\u001b[0m \u001b[39mimport\u001b[39;00m \u001b[39mgeopandas\u001b[39;00m \u001b[39mas\u001b[39;00m \u001b[39mgp\u001b[39;00m\n\u001b[1;32m      <a href='vscode-notebook-cell:/Users/dinhhotongminh/Documents/PythonIni062022/LP_DAAC_Data_Pool_GEDI.ipynb#ch0000000?line=5'>6</a>\u001b[0m \u001b[39mfrom\u001b[39;00m \u001b[39mshapely\u001b[39;00m\u001b[39m.\u001b[39;00m\u001b[39mgeometry\u001b[39;00m \u001b[39mimport\u001b[39;00m Point\n\u001b[0;32m----> <a href='vscode-notebook-cell:/Users/dinhhotongminh/Documents/PythonIni062022/LP_DAAC_Data_Pool_GEDI.ipynb#ch0000000?line=6'>7</a>\u001b[0m \u001b[39mimport\u001b[39;00m \u001b[39mgeoviews\u001b[39;00m \u001b[39mas\u001b[39;00m \u001b[39mgv\u001b[39;00m\n\u001b[1;32m      <a href='vscode-notebook-cell:/Users/dinhhotongminh/Documents/PythonIni062022/LP_DAAC_Data_Pool_GEDI.ipynb#ch0000000?line=7'>8</a>\u001b[0m \u001b[39mfrom\u001b[39;00m \u001b[39mgeoviews\u001b[39;00m \u001b[39mimport\u001b[39;00m opts, tile_sources \u001b[39mas\u001b[39;00m gvts\n\u001b[1;32m      <a href='vscode-notebook-cell:/Users/dinhhotongminh/Documents/PythonIni062022/LP_DAAC_Data_Pool_GEDI.ipynb#ch0000000?line=8'>9</a>\u001b[0m \u001b[39mimport\u001b[39;00m \u001b[39mholoviews\u001b[39;00m \u001b[39mas\u001b[39;00m \u001b[39mhv\u001b[39;00m\n",
      "\u001b[0;31mModuleNotFoundError\u001b[0m: No module named 'geoviews'"
     ]
    }
   ],
   "source": [
    "import os\n",
    "import h5py\n",
    "import numpy as np\n",
    "import pandas as pd\n",
    "import geopandas as gp\n",
    "from shapely.geometry import Point\n",
    "import geoviews as gv\n",
    "from geoviews import opts, tile_sources as gvts\n",
    "import holoviews as hv\n",
    "gv.extension('bokeh', 'matplotlib')"
   ]
  }
 ],
 "metadata": {
  "kernelspec": {
   "display_name": "Python 3.9.12 ('base')",
   "language": "python",
   "name": "python3"
  },
  "language_info": {
   "codemirror_mode": {
    "name": "ipython",
    "version": 3
   },
   "file_extension": ".py",
   "mimetype": "text/x-python",
   "name": "python",
   "nbconvert_exporter": "python",
   "pygments_lexer": "ipython3",
   "version": "3.9.12"
  },
  "orig_nbformat": 4,
  "vscode": {
   "interpreter": {
    "hash": "2340edf152fcddffd84a3bcc2d97e92ca0dd5cd3592ee8456e11edb0ea2426cc"
   }
  }
 },
 "nbformat": 4,
 "nbformat_minor": 2
}
